{
  "nbformat": 4,
  "nbformat_minor": 0,
  "metadata": {
    "colab": {
      "name": "LMHeuristica.ipynb",
      "provenance": [],
      "collapsed_sections": [],
      "toc_visible": true,
      "authorship_tag": "ABX9TyMTzPONAh2UXSP0OYxI2fnI",
      "include_colab_link": true
    },
    "kernelspec": {
      "name": "python3",
      "display_name": "Python 3"
    }
  },
  "cells": [
    {
      "cell_type": "markdown",
      "metadata": {
        "id": "view-in-github",
        "colab_type": "text"
      },
      "source": [
        "<a href=\"https://colab.research.google.com/github/lmedinelli/UAIAI/blob/master/mod2_heuristics/LMHeuristica.ipynb\" target=\"_parent\"><img src=\"https://colab.research.google.com/assets/colab-badge.svg\" alt=\"Open In Colab\"/></a>"
      ]
    },
    {
      "cell_type": "markdown",
      "metadata": {
        "id": "6WwZpECwPWwA",
        "colab_type": "text"
      },
      "source": [
        "# Problema de Colores"
      ]
    },
    {
      "cell_type": "markdown",
      "metadata": {
        "id": "4zliRcClPlhg",
        "colab_type": "text"
      },
      "source": [
        "### Instalacion modulos y su importación"
      ]
    },
    {
      "cell_type": "code",
      "metadata": {
        "id": "qQeIwT2tHRSH",
        "colab_type": "code",
        "outputId": "f23a5a3b-7216-4552-f846-96b6237f32b3",
        "colab": {
          "base_uri": "https://localhost:8080/",
          "height": 86
        }
      },
      "source": [
        "pip install ortools"
      ],
      "execution_count": 0,
      "outputs": [
        {
          "output_type": "stream",
          "text": [
            "Requirement already satisfied: ortools in /usr/local/lib/python3.6/dist-packages (6.7.4973)\n",
            "Requirement already satisfied: protobuf>=3.5.1 in /usr/local/lib/python3.6/dist-packages (from ortools) (3.10.0)\n",
            "Requirement already satisfied: six>=1.10 in /usr/local/lib/python3.6/dist-packages (from ortools) (1.12.0)\n",
            "Requirement already satisfied: setuptools in /usr/local/lib/python3.6/dist-packages (from protobuf>=3.5.1->ortools) (47.1.1)\n"
          ],
          "name": "stdout"
        }
      ]
    },
    {
      "cell_type": "code",
      "metadata": {
        "id": "6du4W83QPIEY",
        "colab_type": "code",
        "colab": {}
      },
      "source": [
        "#En python hay que importar ciertas funciones\n",
        "import sys\n",
        "from ortools.sat.python import cp_model"
      ],
      "execution_count": 0,
      "outputs": []
    },
    {
      "cell_type": "code",
      "metadata": {
        "id": "7fvI2syuPT4q",
        "colab_type": "code",
        "colab": {}
      },
      "source": [
        "#alternativa 2\n",
        "numColores=3\n",
        "numRegiones=6"
      ],
      "execution_count": 0,
      "outputs": []
    },
    {
      "cell_type": "code",
      "metadata": {
        "id": "EKyzkQZbTM0e",
        "colab_type": "code",
        "outputId": "fc73fb1c-245d-4fca-85c4-a891357d4135",
        "colab": {
          "base_uri": "https://localhost:8080/",
          "height": 52
        }
      },
      "source": [
        "E=[[0,1],[0,3],[0,2],[1,2],[3,2],[3,4],[2,5]]\n",
        "\n",
        "print(\"colindantes: \")\n",
        "print(E)"
      ],
      "execution_count": 0,
      "outputs": [
        {
          "output_type": "stream",
          "text": [
            "colindantes: \n",
            "[[0, 1], [0, 3], [0, 2], [1, 2], [3, 2], [3, 4], [2, 5]]\n"
          ],
          "name": "stdout"
        }
      ]
    },
    {
      "cell_type": "code",
      "metadata": {
        "id": "lEERcjnwTQc0",
        "colab_type": "code",
        "colab": {}
      },
      "source": [
        "model = cp_model.CpModel()\n",
        "\n",
        "x = [model.NewIntVar(0, numColores-1, 'x[%i]' % i) for i in range(numRegiones)]"
      ],
      "execution_count": 0,
      "outputs": []
    },
    {
      "cell_type": "code",
      "metadata": {
        "id": "jiNgPEAnVcCc",
        "colab_type": "code",
        "outputId": "17d15b31-b511-4177-e854-a396fd8786cb",
        "colab": {
          "base_uri": "https://localhost:8080/",
          "height": 86
        }
      },
      "source": [
        "print(\"\\n\\nx:\")\n",
        "print(x)\n"
      ],
      "execution_count": 0,
      "outputs": [
        {
          "output_type": "stream",
          "text": [
            "\n",
            "\n",
            "x:\n",
            "[x[0](0..2), x[1](0..2), x[2](0..2), x[3](0..2), x[4](0..2), x[5](0..2)]\n"
          ],
          "name": "stdout"
        }
      ]
    },
    {
      "cell_type": "code",
      "metadata": {
        "id": "qhQaH5lNVkwR",
        "colab_type": "code",
        "outputId": "3985cd0b-3b52-4f3f-abf5-a07f185afcb9",
        "colab": {
          "base_uri": "https://localhost:8080/",
          "height": 139
        }
      },
      "source": [
        "# reglas\n",
        "for e in E:\n",
        "  print(\"Incluyendo condición \",e[0],\" != \",e[1])\n",
        "  model.Add(x[e[0]] != x[e[1]])"
      ],
      "execution_count": 0,
      "outputs": [
        {
          "output_type": "stream",
          "text": [
            "Incluyendo condición  0  !=  1\n",
            "Incluyendo condición  0  !=  3\n",
            "Incluyendo condición  0  !=  2\n",
            "Incluyendo condición  1  !=  2\n",
            "Incluyendo condición  3  !=  2\n",
            "Incluyendo condición  3  !=  4\n",
            "Incluyendo condición  2  !=  5\n"
          ],
          "name": "stdout"
        }
      ]
    },
    {
      "cell_type": "code",
      "metadata": {
        "id": "Nnf8AoHFV0nh",
        "colab_type": "code",
        "colab": {}
      },
      "source": [
        "solver = cp_model.CpSolver()"
      ],
      "execution_count": 0,
      "outputs": []
    },
    {
      "cell_type": "code",
      "metadata": {
        "id": "6LkuS07TYg0Z",
        "colab_type": "code",
        "colab": {}
      },
      "source": [
        "status = solver.Solve(model)"
      ],
      "execution_count": 0,
      "outputs": []
    },
    {
      "cell_type": "code",
      "metadata": {
        "id": "8KbQxy1JYlFA",
        "colab_type": "code",
        "outputId": "11ef4a95-8807-481e-c7ba-0c016203830d",
        "colab": {
          "base_uri": "https://localhost:8080/",
          "height": 121
        }
      },
      "source": [
        "if status == cp_model.MODEL_SAT:\n",
        "  for i in range(numRegiones):\n",
        "    print(\"region\",i,\"color\",solver.Value(x[i]))"
      ],
      "execution_count": 0,
      "outputs": [
        {
          "output_type": "stream",
          "text": [
            "region 0 color 0\n",
            "region 1 color 2\n",
            "region 2 color 1\n",
            "region 3 color 2\n",
            "region 4 color 0\n",
            "region 5 color 0\n"
          ],
          "name": "stdout"
        }
      ]
    },
    {
      "cell_type": "code",
      "metadata": {
        "id": "eb3wn4r_YoMZ",
        "colab_type": "code",
        "colab": {}
      },
      "source": [
        ""
      ],
      "execution_count": 0,
      "outputs": []
    }
  ]
}