{
  "nbformat": 4,
  "nbformat_minor": 0,
  "metadata": {
    "colab": {
      "name": "Tarea2_Constrain_Programming.ipynb",
      "provenance": [],
      "collapsed_sections": [],
      "toc_visible": true,
      "include_colab_link": true
    },
    "kernelspec": {
      "name": "python3",
      "display_name": "Python 3"
    }
  },
  "cells": [
    {
      "cell_type": "markdown",
      "metadata": {
        "id": "view-in-github",
        "colab_type": "text"
      },
      "source": [
        "<a href=\"https://colab.research.google.com/github/lmedinelli/UAIAI/blob/master/mod2_heuristics/Tarea2_Constrain_Programming.ipynb\" target=\"_parent\"><img src=\"https://colab.research.google.com/assets/colab-badge.svg\" alt=\"Open In Colab\"/></a>"
      ]
    },
    {
      "cell_type": "markdown",
      "metadata": {
        "id": "Dt1fcQ6j_ThY",
        "colab_type": "text"
      },
      "source": [
        "![Universidad Adolfo Ibañez](https://www.uai.cl/assets/themes/uai-central/img/logo.svg)\n",
        "\n",
        "---\n",
        "\n",
        "# UAI : Magister / Diploma AI 2020\n",
        "\n",
        "---\n",
        "\n",
        "## Mini-proyecto 2 - Programación Basada en Restricciones\n",
        "\n",
        "### Descripción Problema a resolver\n",
        "\n",
        "La evaluación consiste en realizar un modelo\n",
        "que resuelva el problema de asignar trabajadores\n",
        "a vuelos en una compañía aérea. Para lo que tenemos los siguientes datos:\n",
        "\n",
        "1. Hay 20 trabajadores\n",
        "+ Azafatos: Tom, David, Jeremy, Ron, Joe, Bill, Fred, Bob,\n",
        "Mario, Ed\n",
        "+ Azafatas: Carol, Janet, Tracy, Marilyn, Carolyn, Cathy,\n",
        "Inez, Jean, Heather, Juliet\n",
        "2. Hay 10 vuelos (la numeración es importante)\n",
        "3. Cada vuelo necesita el siguiente número de\n",
        "trabajadores, azafatos y azafatas.\n",
        "\n",
        "![](https://drive.google.com/uc?export=view&id=1cHJBX0X42Auo0EwdRfY_xUByM_V71m9K)\n",
        "\n",
        "4. Además, cada vuelo necesita al menos una persona\n",
        "que sepa francés, una persona que sepa español y\n",
        "una persona que sepa alemán.\n",
        "* Saben francés: Inez, Bill, Jean, Juliet\n",
        "* Saben español: Tom, Jeremy, Mario, Cathy, Juliet\n",
        "* Saben alemán: Bill, Fred, Joe, Mario, Marilyn, Inez, Heather\n",
        "\n",
        "5. Si un trabajador trabaja un vuelo, no puede\n",
        "trabajar ninguno de los siguientes dos vuelos\n",
        "(ejemplo, si Mario trabaja en el vuelo 1, no\n",
        "puede trabajar en el vuelo 2 ni en el vuelo 3).\n",
        "\n",
        "---\n",
        "\n",
        "### Descripción **Objetivo**\n",
        "\n",
        "* El objetivo es encontrar una asignación de\n",
        "trabajadores a vuelos.\n",
        "\n",
        "* Pregunta extra: ¿Se podría hacer con menos\n",
        "trabajadores?"
      ]
    },
    {
      "cell_type": "markdown",
      "metadata": {
        "id": "l7rT1WRxGmvu",
        "colab_type": "text"
      },
      "source": [
        "# Solución\n",
        "\n",
        "XXXXXX Descripción de como se piensa resolver el problema XXXXXxxxx"
      ]
    },
    {
      "cell_type": "markdown",
      "metadata": {
        "id": "BkwlZxwMBgBC",
        "colab_type": "text"
      },
      "source": [
        "## Importación de paquetes y creación de variables"
      ]
    },
    {
      "cell_type": "code",
      "metadata": {
        "id": "pBpVAEuHo0TI",
        "colab_type": "code",
        "colab": {
          "base_uri": "https://localhost:8080/",
          "height": 328
        },
        "outputId": "3a820b31-3b7e-4e35-ea09-8f2779e49864"
      },
      "source": [
        "pip install ortools"
      ],
      "execution_count": 1,
      "outputs": [
        {
          "output_type": "stream",
          "text": [
            "Collecting ortools\n",
            "\u001b[?25l  Downloading https://files.pythonhosted.org/packages/16/eb/61e676d87bd1089f487f3a03f436197433122a97cb501dea46041fc10480/ortools-7.7.7810-cp36-cp36m-manylinux1_x86_64.whl (29.4MB)\n",
            "\u001b[K     |████████████████████████████████| 29.5MB 135kB/s \n",
            "\u001b[?25hCollecting protobuf>=3.12.2\n",
            "\u001b[?25l  Downloading https://files.pythonhosted.org/packages/28/05/9867ef8eafd12265267bee138fa2c46ebf34a276ea4cbe184cba4c606e8b/protobuf-3.12.2-cp36-cp36m-manylinux1_x86_64.whl (1.3MB)\n",
            "\u001b[K     |████████████████████████████████| 1.3MB 46.1MB/s \n",
            "\u001b[?25hRequirement already satisfied: six>=1.10 in /usr/local/lib/python3.6/dist-packages (from ortools) (1.12.0)\n",
            "Requirement already satisfied: setuptools in /usr/local/lib/python3.6/dist-packages (from protobuf>=3.12.2->ortools) (47.3.1)\n",
            "Installing collected packages: protobuf, ortools\n",
            "  Found existing installation: protobuf 3.10.0\n",
            "    Uninstalling protobuf-3.10.0:\n",
            "      Successfully uninstalled protobuf-3.10.0\n",
            "Successfully installed ortools-7.7.7810 protobuf-3.12.2\n"
          ],
          "name": "stdout"
        },
        {
          "output_type": "display_data",
          "data": {
            "application/vnd.colab-display-data+json": {
              "pip_warning": {
                "packages": [
                  "google"
                ]
              }
            }
          },
          "metadata": {
            "tags": []
          }
        }
      ]
    },
    {
      "cell_type": "code",
      "metadata": {
        "id": "vf40DtS7rbsJ",
        "colab_type": "code",
        "colab": {}
      },
      "source": [
        "from ortools.constraint_solver import pywrapcp"
      ],
      "execution_count": 1,
      "outputs": []
    },
    {
      "cell_type": "code",
      "metadata": {
        "id": "g3VlOQNKS17K",
        "colab_type": "code",
        "colab": {}
      },
      "source": [
        "#help(pywrapcp)"
      ],
      "execution_count": null,
      "outputs": []
    },
    {
      "cell_type": "code",
      "metadata": {
        "id": "dCNO7_EG8rUH",
        "colab_type": "code",
        "colab": {}
      },
      "source": [
        "solver = pywrapcp.Solver(\"Tripulacion\")"
      ],
      "execution_count": 2,
      "outputs": []
    },
    {
      "cell_type": "code",
      "metadata": {
        "id": "d0de1gxIkZ-_",
        "colab_type": "code",
        "colab": {}
      },
      "source": [
        " nombres = [\n",
        "      \"Tom\", \"David\", \"Jeremy\", \"Ron\", \"Joe\", \"Bill\", \"Fred\", \"Bob\", \"Mario\",\n",
        "      \"Ed\", \"Carol\", \"Janet\", \"Tracy\", \"Marilyn\", \"Carolyn\", \"Cathy\", \"Inez\",\n",
        "      \"Jean\", \"Heather\", \"Juliet\"\n",
        "  ]"
      ],
      "execution_count": 4,
      "outputs": []
    },
    {
      "cell_type": "code",
      "metadata": {
        "id": "6fBNIiJqkdxO",
        "colab_type": "code",
        "colab": {
          "base_uri": "https://localhost:8080/",
          "height": 34
        },
        "outputId": "a8043b9c-c18f-44cb-fbe2-378a45e65d11"
      },
      "source": [
        "print(nombres)"
      ],
      "execution_count": 5,
      "outputs": [
        {
          "output_type": "stream",
          "text": [
            "['Tom', 'David', 'Jeremy', 'Ron', 'Joe', 'Bill', 'Fred', 'Bob', 'Mario', 'Ed', 'Carol', 'Janet', 'Tracy', 'Marilyn', 'Carolyn', 'Cathy', 'Inez', 'Jean', 'Heather', 'Juliet']\n"
          ],
          "name": "stdout"
        }
      ]
    },
    {
      "cell_type": "code",
      "metadata": {
        "id": "JiH7aVNtkqQX",
        "colab_type": "code",
        "colab": {
          "base_uri": "https://localhost:8080/",
          "height": 34
        },
        "outputId": "eea697f7-1001-4ccb-b7f0-4975a9cfc0dc"
      },
      "source": [
        "personas = len(nombres)\n",
        "print(personas)"
      ],
      "execution_count": 6,
      "outputs": [
        {
          "output_type": "stream",
          "text": [
            "20\n"
          ],
          "name": "stdout"
        }
      ]
    },
    {
      "cell_type": "markdown",
      "metadata": {
        "id": "vPCBhMeOnLX1",
        "colab_type": "text"
      },
      "source": [
        "Se establece la matriz de atributos que corresponden a toda la tripulación, de modo de poder clasificar y clusterizar los ambitos que tenemos de trabajo de la tripulación."
      ]
    },
    {
      "cell_type": "code",
      "metadata": {
        "id": "aZWArK8mk3Xg",
        "colab_type": "code",
        "colab": {}
      },
      "source": [
        "atributos = [\n",
        "      #  Azafatos, Azafatas, Frances, Español, Aleman\n",
        "      [1, 0, 0, 1, 0],  # Tom     = 1\n",
        "      [1, 0, 0, 0, 0],  # David   = 2\n",
        "      [1, 0, 0, 1, 0],  # Jeremy  = 3\n",
        "      [1, 0, 0, 0, 0],  # Ron     = 4\n",
        "      [1, 0, 0, 0, 1],  # Joe     = 5\n",
        "      [1, 0, 1, 0, 1],  # Bill    = 6\n",
        "      [1, 0, 0, 0, 1],  # Fred    = 7\n",
        "      [1, 0, 0, 0, 0],  # Bob     = 8\n",
        "      [1, 0, 0, 1, 1],  # Mario   = 9\n",
        "      [1, 0, 0, 0, 0],  # Ed      = 10\n",
        "      [0, 1, 0, 0, 0],  # Carol   = 11\n",
        "      [0, 1, 0, 0, 0],  # Janet   = 12\n",
        "      [0, 1, 0, 0, 0],  # Tracy   = 13\n",
        "      [0, 1, 0, 1, 1],  # Marilyn = 14\n",
        "      [0, 1, 0, 0, 0],  # Carolyn = 15\n",
        "      [0, 1, 0, 1, 0],  # Cathy   = 16\n",
        "      [0, 1, 1, 0, 1],  # Inez    = 17\n",
        "      [0, 1, 1, 0, 0],  # Jean    = 18\n",
        "      [0, 1, 0, 0, 1],  # Heather = 19\n",
        "      [0, 1, 1, 1, 0]  # Juliet  = 20\n",
        "  ]"
      ],
      "execution_count": 7,
      "outputs": []
    },
    {
      "cell_type": "markdown",
      "metadata": {
        "id": "5koRU9lImgy0",
        "colab_type": "text"
      },
      "source": [
        "Se forma la siguiente tabla requerida por las condiciones del problema generado correspondiente a la tripulación requerida por fila (cada fila es un vuelo de la tabla del encabezado):\n",
        "\n",
        "  + Numero Trabajadores     : Numero total de trabajadores requeridos en vuelo\n",
        "  + Azafatos  : Azafatos requeridos\n",
        "  + Azafatas : Azafatas requeridas\n",
        "  + Frances    : Cuantos requeridos que sepan frances\n",
        "  + Español   : Cuantos que sepan español son requeridos\n",
        "  + Aleman    : Cuantos que sepan Aleman son requeridos"
      ]
    },
    {
      "cell_type": "code",
      "metadata": {
        "id": "8jBe83jzmTF1",
        "colab_type": "code",
        "colab": {
          "base_uri": "https://localhost:8080/",
          "height": 34
        },
        "outputId": "91bf6efd-b9b9-4e3f-c929-4c277df4599a"
      },
      "source": [
        "\n",
        "tripulacion_requerida = [\n",
        "                         [4, 1, 1, 1, 1, 1],  # Vuelo 1\n",
        "                         [5, 1, 1, 1, 1, 1],  # Vuelo 2\n",
        "                         [5, 1, 1, 1, 1, 1],  # Vuelo 3\n",
        "                         [6, 2, 2, 1, 1, 1],  # Vuelo 4\n",
        "                         [7, 3, 3, 1, 1, 1],  # Vuelo 5\n",
        "                         [4, 1, 1, 1, 1, 1],  # Vuelo 6\n",
        "                         [5, 1, 1, 1, 1, 1],  # Vuelo 7\n",
        "                         [6, 1, 1, 1, 1, 1],  # Vuelo 8\n",
        "                         [6, 2, 2, 1, 1, 1],  # Vuelo 9\n",
        "                         [7, 3, 3, 1, 1, 1]   # Vuelo 10\n",
        "                         ]\n",
        "\n",
        "numero_vuelos = len(tripulacion_requerida)  # numero de vuelos\n",
        "tripulacion_requerida[9][0]"
      ],
      "execution_count": 21,
      "outputs": [
        {
          "output_type": "execute_result",
          "data": {
            "text/plain": [
              "7"
            ]
          },
          "metadata": {
            "tags": []
          },
          "execution_count": 21
        }
      ]
    },
    {
      "cell_type": "markdown",
      "metadata": {
        "id": "AovEEHW-Ahr-",
        "colab_type": "text"
      },
      "source": [
        "Se genera un diccionario de tripulación con llave una tupla que tiene el valor del vuelo en el primer elemento y de la cantidad de tripulacióón en el segundo y el elemnto valor corresponde a un solver que puede ser 0 o 1.\n",
        "\n",
        "Tambien se crea una variable numero de trabajadores que contieen un solver que corresponde a una variable entera que puede ir desde 1 a numero de personas, llamada num_trab"
      ]
    },
    {
      "cell_type": "code",
      "metadata": {
        "id": "Ml4GNBlmourx",
        "colab_type": "code",
        "colab": {}
      },
      "source": [
        "tripulacion = {}\n",
        "for i in range(mumero_vuelos):\n",
        "  for j in range(personas):\n",
        "    # tripilacion es un diccionario que las llaves son una tupla entre el numero de vuelos\n",
        "    # y valor es un solver que tiene una varible entera que va de 0 a 1, por lo que indicara si esa persona \n",
        "    # de la tripulación pertenece al vuelo ej. si llave es (0,17) y el valor es 1, implica que en vuelo 1 va Jean\n",
        "    tripulacion[(i, j)] = solver.IntVar(0, 1, \"tripulacion[%i,%i]\" % (i, j)) \n",
        "\n",
        "tripulacion_f = [ tripulacion[(i, j)] for i in range(mumero_vuelos) for j in range(personas)]\n",
        "\n",
        "  # numero de personas trabajando\n",
        "num_trab = solver.IntVar(1, personas, \"num_trab\")"
      ],
      "execution_count": 9,
      "outputs": []
    },
    {
      "cell_type": "code",
      "metadata": {
        "id": "PwICuQKQ9_Pz",
        "colab_type": "code",
        "colab": {
          "base_uri": "https://localhost:8080/",
          "height": 34
        },
        "outputId": "f15a591a-e281-4938-9682-9d268a114a57"
      },
      "source": [
        "type(tripulacion)"
      ],
      "execution_count": 10,
      "outputs": [
        {
          "output_type": "execute_result",
          "data": {
            "text/plain": [
              "dict"
            ]
          },
          "metadata": {
            "tags": []
          },
          "execution_count": 10
        }
      ]
    },
    {
      "cell_type": "code",
      "metadata": {
        "id": "mEuoNYut_lay",
        "colab_type": "code",
        "colab": {}
      },
      "source": [
        "#tripulacion"
      ],
      "execution_count": 13,
      "outputs": []
    },
    {
      "cell_type": "code",
      "metadata": {
        "id": "eWuEGX9MA4fI",
        "colab_type": "code",
        "colab": {
          "base_uri": "https://localhost:8080/",
          "height": 34
        },
        "outputId": "cf9985b7-1368-44a9-e08c-0a50ec614572"
      },
      "source": [
        "num_trab"
      ],
      "execution_count": 12,
      "outputs": [
        {
          "output_type": "execute_result",
          "data": {
            "text/plain": [
              "num_trab(1..20)"
            ]
          },
          "metadata": {
            "tags": []
          },
          "execution_count": 12
        }
      ]
    },
    {
      "cell_type": "markdown",
      "metadata": {
        "id": "z5uG8xIjlhRX",
        "colab_type": "text"
      },
      "source": [
        "## Creación de restricciones"
      ]
    },
    {
      "cell_type": "code",
      "metadata": {
        "id": "h1iLKDLbbAzR",
        "colab_type": "code",
        "colab": {}
      },
      "source": [
        "# numero de personas trabajando usando linked lists\n",
        "solver.Add(num_trab == solver.Sum([\n",
        "      solver.IsGreaterOrEqualCstVar( solver.Sum([tripulacion[(f, p)] for f in range(numero_vuelos)]), 1) for p in range(personas)\n",
        "  ]))\n"
      ],
      "execution_count": 18,
      "outputs": []
    },
    {
      "cell_type": "code",
      "metadata": {
        "id": "9r85Bmd5cbe_",
        "colab_type": "code",
        "colab": {}
      },
      "source": [
        " for f in range(numero_vuelos):\n",
        "    # tamaño de la tripulacion ej [4, 1, 1, 1, 1, 1],  # Vuelo 1, donde son 4\n",
        "    tmp = [tripulacion[(f, i)] for i in range(personas)]\n",
        "    #print(tmp)\n",
        "    solver.Add(solver.Sum(tmp) == tripulacion_requerida[f][0])\n",
        "    # atributos y requerimientos\n",
        "    for j in range(5): # 4 columnas de atributos requeridos\n",
        "      # el producto entre los atributos de una caracteristica especifica (ej frances) por la tripulacion \n",
        "      # de un vuelo f  \n",
        "      tmp = [atributos[i][j] * tripulacion[(f, i)] for i in range(personas)]\n",
        "      solver.Add(solver.Sum(tmp) >= tripulacion_requerida[f][j + 1])"
      ],
      "execution_count": 24,
      "outputs": []
    },
    {
      "cell_type": "code",
      "metadata": {
        "id": "NbaCrJJUd_u8",
        "colab_type": "code",
        "colab": {}
      },
      "source": [
        " # restriccion de descanso en vuelos (no se puede trabajar en los dos vuelos siguientes)\n",
        " for f in range(numero_vuelos - 2):\n",
        "   for i in range(personas):\n",
        "     solver.Add(tripulacion[f, i] + tripulacion[f + 1, i] + tripulacion[f + 2, i] <= 1)"
      ],
      "execution_count": 26,
      "outputs": []
    },
    {
      "cell_type": "code",
      "metadata": {
        "id": "iz2ky-lfiCRS",
        "colab_type": "code",
        "colab": {}
      },
      "source": [
        "  # extra : todos deben trabajar en al menos dos de los vuelos\n",
        "  # for i in range(personas):\n",
        "  #     [solver.Add(solver.Sum([tripulacion[f,i] for f in range(num_vuelos)]) >= 2) ]"
      ],
      "execution_count": 29,
      "outputs": []
    },
    {
      "cell_type": "markdown",
      "metadata": {
        "id": "XgKY3_ulitNJ",
        "colab_type": "text"
      },
      "source": [
        "# Solución y Búsqueda"
      ]
    },
    {
      "cell_type": "code",
      "metadata": {
        "id": "JOH78it3i0Eb",
        "colab_type": "code",
        "colab": {}
      },
      "source": [
        "solucion = solver.Assignment()\n",
        "solucion.Add(tripulacion_f)\n",
        "solucion.Add(num_trab)\n",
        "\n",
        "# Revisar parametros del solver de assignacióón para determinar reducción de personas\n",
        "db = solver.Phase(tripulacion_f, solver.CHOOSE_MIN_SIZE,\n",
        "                    solver.ASSIGN_MIN_VALUE)"
      ],
      "execution_count": 34,
      "outputs": []
    },
    {
      "cell_type": "markdown",
      "metadata": {
        "id": "BKmlcUPbjpM_",
        "colab_type": "text"
      },
      "source": [
        "# Resultados"
      ]
    },
    {
      "cell_type": "code",
      "metadata": {
        "id": "lwrwqrzOj190",
        "colab_type": "code",
        "colab": {
          "base_uri": "https://localhost:8080/",
          "height": 1000
        },
        "outputId": "6cfbb4df-c680-49e7-8ae2-305f53885648"
      },
      "source": [
        "\n",
        "sols = 5 # determine el numero de soluciones a deplegar\n",
        "solver.NewSearch(db)\n",
        "num_solutions = 0\n",
        "while solver.NextSolution():\n",
        "  num_solutions += 1\n",
        "  print(\"Solucion #%i\" % num_solutions)\n",
        "  print(\"Número Trabajadores:\", num_trab.Value())\n",
        "  for i in range(numero_vuelos):\n",
        "    for j in range(personas):\n",
        "      print(tripulacion[i, j].Value(), end=\" \")\n",
        "    print()\n",
        "  print()\n",
        "\n",
        "  print(\"Vuelos:\")\n",
        "  for flight in range(numero_vuelos):\n",
        "    print(\"Vuelo\", flight, \"personas:\", end=\" \")\n",
        "    for person in range(personas):\n",
        "      if tripulacion[flight, person].Value() == 1:\n",
        "        print(nombres[person], end=\" \")\n",
        "    print()\n",
        "  print()\n",
        "\n",
        "  print(\"Tripulacion:\")\n",
        "  for person in range(personas):\n",
        "    print(\"%-10s Vuelos\" % nombres[person], end=\" \")\n",
        "    for flight in range(numero_vuelos):\n",
        "      if tripulacion[flight, person].Value() == 1:\n",
        "        print(flight, end=\" \")\n",
        "    print()\n",
        "  print()\n",
        "\n",
        "  if num_solutions >= sols:\n",
        "    break\n",
        "solver.EndSearch()\n",
        "\n",
        "print()\n",
        "print(\"Numero Soluciones Desplegadas:\", num_solutions)\n",
        "print(\"Fallos:\", solver.Failures())\n",
        "print(\"Ramas:\", solver.Branches())\n",
        "print(\"WallTime:\", solver.WallTime())"
      ],
      "execution_count": 35,
      "outputs": [
        {
          "output_type": "stream",
          "text": [
            "Solucion #1\n",
            "Número Trabajadores: 19\n",
            "0 0 0 0 0 0 0 0 0 1 0 0 0 0 0 0 0 1 1 1 \n",
            "0 0 0 0 0 0 0 0 1 0 0 0 0 1 1 1 1 0 0 0 \n",
            "0 0 1 0 0 1 0 0 0 0 1 1 1 0 0 0 0 0 0 0 \n",
            "0 0 0 0 0 0 1 1 0 1 0 0 0 0 0 0 0 1 1 1 \n",
            "0 0 0 1 1 0 0 0 1 0 0 0 0 1 1 1 1 0 0 0 \n",
            "0 0 1 0 0 1 0 0 0 0 0 1 1 0 0 0 0 0 0 0 \n",
            "0 0 0 0 0 0 0 0 0 1 1 0 0 0 0 0 0 1 1 1 \n",
            "0 0 0 0 0 0 0 1 1 0 0 0 0 1 1 1 1 0 0 0 \n",
            "0 0 1 0 1 1 1 0 0 0 0 1 1 0 0 0 0 0 0 0 \n",
            "0 1 0 1 0 0 0 0 0 1 1 0 0 0 0 0 0 1 1 1 \n",
            "\n",
            "Vuelos:\n",
            "Vuelo 0 personas: Ed Jean Heather Juliet \n",
            "Vuelo 1 personas: Mario Marilyn Carolyn Cathy Inez \n",
            "Vuelo 2 personas: Jeremy Bill Carol Janet Tracy \n",
            "Vuelo 3 personas: Fred Bob Ed Jean Heather Juliet \n",
            "Vuelo 4 personas: Ron Joe Mario Marilyn Carolyn Cathy Inez \n",
            "Vuelo 5 personas: Jeremy Bill Janet Tracy \n",
            "Vuelo 6 personas: Ed Carol Jean Heather Juliet \n",
            "Vuelo 7 personas: Bob Mario Marilyn Carolyn Cathy Inez \n",
            "Vuelo 8 personas: Jeremy Joe Bill Fred Janet Tracy \n",
            "Vuelo 9 personas: David Ron Ed Carol Jean Heather Juliet \n",
            "\n",
            "Tripulacion:\n",
            "Tom        Vuelos \n",
            "David      Vuelos 9 \n",
            "Jeremy     Vuelos 2 5 8 \n",
            "Ron        Vuelos 4 9 \n",
            "Joe        Vuelos 4 8 \n",
            "Bill       Vuelos 2 5 8 \n",
            "Fred       Vuelos 3 8 \n",
            "Bob        Vuelos 3 7 \n",
            "Mario      Vuelos 1 4 7 \n",
            "Ed         Vuelos 0 3 6 9 \n",
            "Carol      Vuelos 2 6 9 \n",
            "Janet      Vuelos 2 5 8 \n",
            "Tracy      Vuelos 2 5 8 \n",
            "Marilyn    Vuelos 1 4 7 \n",
            "Carolyn    Vuelos 1 4 7 \n",
            "Cathy      Vuelos 1 4 7 \n",
            "Inez       Vuelos 1 4 7 \n",
            "Jean       Vuelos 0 3 6 9 \n",
            "Heather    Vuelos 0 3 6 9 \n",
            "Juliet     Vuelos 0 3 6 9 \n",
            "\n",
            "Solucion #2\n",
            "Número Trabajadores: 19\n",
            "0 0 0 0 0 0 0 0 0 1 0 0 0 0 0 0 0 1 1 1 \n",
            "0 0 0 0 0 0 0 0 1 0 0 0 0 1 1 1 1 0 0 0 \n",
            "0 0 1 0 0 1 0 0 0 0 1 1 1 0 0 0 0 0 0 0 \n",
            "0 0 0 0 0 0 1 1 0 1 0 0 0 0 0 0 0 1 1 1 \n",
            "0 0 0 1 1 0 0 0 1 0 0 0 0 1 1 1 1 0 0 0 \n",
            "0 0 1 0 0 1 0 0 0 0 0 1 1 0 0 0 0 0 0 0 \n",
            "0 0 0 0 0 0 0 0 0 1 1 0 0 0 0 0 0 1 1 1 \n",
            "0 0 0 0 0 0 0 1 1 0 0 0 0 1 1 1 1 0 0 0 \n",
            "0 0 1 0 1 1 1 0 0 0 0 1 1 0 0 0 0 0 0 0 \n",
            "1 0 0 1 0 0 0 0 0 1 1 0 0 0 0 0 0 1 1 1 \n",
            "\n",
            "Vuelos:\n",
            "Vuelo 0 personas: Ed Jean Heather Juliet \n",
            "Vuelo 1 personas: Mario Marilyn Carolyn Cathy Inez \n",
            "Vuelo 2 personas: Jeremy Bill Carol Janet Tracy \n",
            "Vuelo 3 personas: Fred Bob Ed Jean Heather Juliet \n",
            "Vuelo 4 personas: Ron Joe Mario Marilyn Carolyn Cathy Inez \n",
            "Vuelo 5 personas: Jeremy Bill Janet Tracy \n",
            "Vuelo 6 personas: Ed Carol Jean Heather Juliet \n",
            "Vuelo 7 personas: Bob Mario Marilyn Carolyn Cathy Inez \n",
            "Vuelo 8 personas: Jeremy Joe Bill Fred Janet Tracy \n",
            "Vuelo 9 personas: Tom Ron Ed Carol Jean Heather Juliet \n",
            "\n",
            "Tripulacion:\n",
            "Tom        Vuelos 9 \n",
            "David      Vuelos \n",
            "Jeremy     Vuelos 2 5 8 \n",
            "Ron        Vuelos 4 9 \n",
            "Joe        Vuelos 4 8 \n",
            "Bill       Vuelos 2 5 8 \n",
            "Fred       Vuelos 3 8 \n",
            "Bob        Vuelos 3 7 \n",
            "Mario      Vuelos 1 4 7 \n",
            "Ed         Vuelos 0 3 6 9 \n",
            "Carol      Vuelos 2 6 9 \n",
            "Janet      Vuelos 2 5 8 \n",
            "Tracy      Vuelos 2 5 8 \n",
            "Marilyn    Vuelos 1 4 7 \n",
            "Carolyn    Vuelos 1 4 7 \n",
            "Cathy      Vuelos 1 4 7 \n",
            "Inez       Vuelos 1 4 7 \n",
            "Jean       Vuelos 0 3 6 9 \n",
            "Heather    Vuelos 0 3 6 9 \n",
            "Juliet     Vuelos 0 3 6 9 \n",
            "\n",
            "Solucion #3\n",
            "Número Trabajadores: 20\n",
            "0 0 0 0 0 0 0 0 0 1 0 0 0 0 0 0 0 1 1 1 \n",
            "0 0 0 0 0 0 0 0 1 0 0 0 0 1 1 1 1 0 0 0 \n",
            "0 0 1 0 0 1 0 0 0 0 1 1 1 0 0 0 0 0 0 0 \n",
            "0 0 0 0 0 0 1 1 0 1 0 0 0 0 0 0 0 1 1 1 \n",
            "0 0 0 1 1 0 0 0 1 0 0 0 0 1 1 1 1 0 0 0 \n",
            "0 0 1 0 0 1 0 0 0 0 0 1 1 0 0 0 0 0 0 0 \n",
            "0 0 0 0 0 0 0 0 0 1 1 0 0 0 0 0 0 1 1 1 \n",
            "0 0 0 0 0 0 0 1 1 0 0 0 0 1 1 1 1 0 0 0 \n",
            "0 0 1 0 1 1 1 0 0 0 0 1 1 0 0 0 0 0 0 0 \n",
            "1 1 0 0 0 0 0 0 0 1 1 0 0 0 0 0 0 1 1 1 \n",
            "\n",
            "Vuelos:\n",
            "Vuelo 0 personas: Ed Jean Heather Juliet \n",
            "Vuelo 1 personas: Mario Marilyn Carolyn Cathy Inez \n",
            "Vuelo 2 personas: Jeremy Bill Carol Janet Tracy \n",
            "Vuelo 3 personas: Fred Bob Ed Jean Heather Juliet \n",
            "Vuelo 4 personas: Ron Joe Mario Marilyn Carolyn Cathy Inez \n",
            "Vuelo 5 personas: Jeremy Bill Janet Tracy \n",
            "Vuelo 6 personas: Ed Carol Jean Heather Juliet \n",
            "Vuelo 7 personas: Bob Mario Marilyn Carolyn Cathy Inez \n",
            "Vuelo 8 personas: Jeremy Joe Bill Fred Janet Tracy \n",
            "Vuelo 9 personas: Tom David Ed Carol Jean Heather Juliet \n",
            "\n",
            "Tripulacion:\n",
            "Tom        Vuelos 9 \n",
            "David      Vuelos 9 \n",
            "Jeremy     Vuelos 2 5 8 \n",
            "Ron        Vuelos 4 \n",
            "Joe        Vuelos 4 8 \n",
            "Bill       Vuelos 2 5 8 \n",
            "Fred       Vuelos 3 8 \n",
            "Bob        Vuelos 3 7 \n",
            "Mario      Vuelos 1 4 7 \n",
            "Ed         Vuelos 0 3 6 9 \n",
            "Carol      Vuelos 2 6 9 \n",
            "Janet      Vuelos 2 5 8 \n",
            "Tracy      Vuelos 2 5 8 \n",
            "Marilyn    Vuelos 1 4 7 \n",
            "Carolyn    Vuelos 1 4 7 \n",
            "Cathy      Vuelos 1 4 7 \n",
            "Inez       Vuelos 1 4 7 \n",
            "Jean       Vuelos 0 3 6 9 \n",
            "Heather    Vuelos 0 3 6 9 \n",
            "Juliet     Vuelos 0 3 6 9 \n",
            "\n",
            "Solucion #4\n",
            "Número Trabajadores: 20\n",
            "0 0 0 0 0 0 0 0 0 1 0 0 0 0 0 0 0 1 1 1 \n",
            "0 0 0 0 0 0 0 0 1 0 0 0 0 1 1 1 1 0 0 0 \n",
            "0 0 1 0 0 1 0 0 0 0 1 1 1 0 0 0 0 0 0 0 \n",
            "0 0 0 0 0 0 1 1 0 1 0 0 0 0 0 0 0 1 1 1 \n",
            "0 0 0 1 1 0 0 0 1 0 0 0 0 1 1 1 1 0 0 0 \n",
            "0 0 1 0 0 1 0 0 0 0 0 1 1 0 0 0 0 0 0 0 \n",
            "0 0 0 0 0 0 0 0 0 1 1 0 0 0 0 0 0 1 1 1 \n",
            "0 0 0 0 0 0 0 1 1 0 0 0 0 1 1 1 1 0 0 0 \n",
            "0 0 1 0 1 1 1 0 0 0 0 1 1 0 0 0 0 0 0 0 \n",
            "1 1 0 1 0 0 0 0 0 0 1 0 0 0 0 0 0 1 1 1 \n",
            "\n",
            "Vuelos:\n",
            "Vuelo 0 personas: Ed Jean Heather Juliet \n",
            "Vuelo 1 personas: Mario Marilyn Carolyn Cathy Inez \n",
            "Vuelo 2 personas: Jeremy Bill Carol Janet Tracy \n",
            "Vuelo 3 personas: Fred Bob Ed Jean Heather Juliet \n",
            "Vuelo 4 personas: Ron Joe Mario Marilyn Carolyn Cathy Inez \n",
            "Vuelo 5 personas: Jeremy Bill Janet Tracy \n",
            "Vuelo 6 personas: Ed Carol Jean Heather Juliet \n",
            "Vuelo 7 personas: Bob Mario Marilyn Carolyn Cathy Inez \n",
            "Vuelo 8 personas: Jeremy Joe Bill Fred Janet Tracy \n",
            "Vuelo 9 personas: Tom David Ron Carol Jean Heather Juliet \n",
            "\n",
            "Tripulacion:\n",
            "Tom        Vuelos 9 \n",
            "David      Vuelos 9 \n",
            "Jeremy     Vuelos 2 5 8 \n",
            "Ron        Vuelos 4 9 \n",
            "Joe        Vuelos 4 8 \n",
            "Bill       Vuelos 2 5 8 \n",
            "Fred       Vuelos 3 8 \n",
            "Bob        Vuelos 3 7 \n",
            "Mario      Vuelos 1 4 7 \n",
            "Ed         Vuelos 0 3 6 \n",
            "Carol      Vuelos 2 6 9 \n",
            "Janet      Vuelos 2 5 8 \n",
            "Tracy      Vuelos 2 5 8 \n",
            "Marilyn    Vuelos 1 4 7 \n",
            "Carolyn    Vuelos 1 4 7 \n",
            "Cathy      Vuelos 1 4 7 \n",
            "Inez       Vuelos 1 4 7 \n",
            "Jean       Vuelos 0 3 6 9 \n",
            "Heather    Vuelos 0 3 6 9 \n",
            "Juliet     Vuelos 0 3 6 9 \n",
            "\n",
            "Solucion #5\n",
            "Número Trabajadores: 20\n",
            "0 0 0 0 0 0 0 0 0 1 0 0 0 0 0 0 0 1 1 1 \n",
            "0 0 0 0 0 0 0 0 1 0 0 0 0 1 1 1 1 0 0 0 \n",
            "0 0 1 0 0 1 0 0 0 0 1 1 1 0 0 0 0 0 0 0 \n",
            "0 0 0 0 0 0 1 1 0 1 0 0 0 0 0 0 0 1 1 1 \n",
            "0 0 0 1 1 0 0 0 1 0 0 0 0 1 1 1 1 0 0 0 \n",
            "0 0 1 0 0 1 0 0 0 0 0 1 1 0 0 0 0 0 0 0 \n",
            "0 0 0 0 0 0 0 0 0 1 1 0 0 0 0 0 0 1 1 1 \n",
            "0 0 0 0 0 0 0 1 1 0 0 0 0 1 1 1 1 0 0 0 \n",
            "0 0 1 0 1 1 1 0 0 0 0 1 1 0 0 0 0 0 0 0 \n",
            "1 1 0 1 0 0 0 0 0 1 0 0 0 0 0 0 0 1 1 1 \n",
            "\n",
            "Vuelos:\n",
            "Vuelo 0 personas: Ed Jean Heather Juliet \n",
            "Vuelo 1 personas: Mario Marilyn Carolyn Cathy Inez \n",
            "Vuelo 2 personas: Jeremy Bill Carol Janet Tracy \n",
            "Vuelo 3 personas: Fred Bob Ed Jean Heather Juliet \n",
            "Vuelo 4 personas: Ron Joe Mario Marilyn Carolyn Cathy Inez \n",
            "Vuelo 5 personas: Jeremy Bill Janet Tracy \n",
            "Vuelo 6 personas: Ed Carol Jean Heather Juliet \n",
            "Vuelo 7 personas: Bob Mario Marilyn Carolyn Cathy Inez \n",
            "Vuelo 8 personas: Jeremy Joe Bill Fred Janet Tracy \n",
            "Vuelo 9 personas: Tom David Ron Ed Jean Heather Juliet \n",
            "\n",
            "Tripulacion:\n",
            "Tom        Vuelos 9 \n",
            "David      Vuelos 9 \n",
            "Jeremy     Vuelos 2 5 8 \n",
            "Ron        Vuelos 4 9 \n",
            "Joe        Vuelos 4 8 \n",
            "Bill       Vuelos 2 5 8 \n",
            "Fred       Vuelos 3 8 \n",
            "Bob        Vuelos 3 7 \n",
            "Mario      Vuelos 1 4 7 \n",
            "Ed         Vuelos 0 3 6 9 \n",
            "Carol      Vuelos 2 6 \n",
            "Janet      Vuelos 2 5 8 \n",
            "Tracy      Vuelos 2 5 8 \n",
            "Marilyn    Vuelos 1 4 7 \n",
            "Carolyn    Vuelos 1 4 7 \n",
            "Cathy      Vuelos 1 4 7 \n",
            "Inez       Vuelos 1 4 7 \n",
            "Jean       Vuelos 0 3 6 9 \n",
            "Heather    Vuelos 0 3 6 9 \n",
            "Juliet     Vuelos 0 3 6 9 \n",
            "\n",
            "\n",
            "Numero Soluciones Desplegadas: 5\n",
            "Fallos: 0\n",
            "Ramas: 189\n",
            "WallTime: 4190178\n"
          ],
          "name": "stdout"
        }
      ]
    },
    {
      "cell_type": "markdown",
      "metadata": {
        "id": "bAK95VPpHtom",
        "colab_type": "text"
      },
      "source": [
        "# Conclusiones"
      ]
    },
    {
      "cell_type": "markdown",
      "metadata": {
        "id": "zm0Gg9E9_Sal",
        "colab_type": "text"
      },
      "source": [
        ""
      ]
    },
    {
      "cell_type": "markdown",
      "metadata": {
        "id": "oGyXnrC-HxY6",
        "colab_type": "text"
      },
      "source": [
        "# Integrantes"
      ]
    }
  ]
}