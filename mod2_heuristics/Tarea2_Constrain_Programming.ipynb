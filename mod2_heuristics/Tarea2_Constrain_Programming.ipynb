{
  "nbformat": 4,
  "nbformat_minor": 0,
  "metadata": {
    "colab": {
      "name": "Tarea2_Constrain_Programming.ipynb",
      "provenance": [],
      "collapsed_sections": [],
      "toc_visible": true,
      "include_colab_link": true
    },
    "kernelspec": {
      "name": "python3",
      "display_name": "Python 3"
    }
  },
  "cells": [
    {
      "cell_type": "markdown",
      "metadata": {
        "id": "view-in-github",
        "colab_type": "text"
      },
      "source": [
        "<a href=\"https://colab.research.google.com/github/lmedinelli/UAIAI/blob/master/mod2_heuristics/Tarea2_Constrain_Programming.ipynb\" target=\"_parent\"><img src=\"https://colab.research.google.com/assets/colab-badge.svg\" alt=\"Open In Colab\"/></a>"
      ]
    },
    {
      "cell_type": "markdown",
      "metadata": {
        "id": "Dt1fcQ6j_ThY",
        "colab_type": "text"
      },
      "source": [
        "![Universidad Adolfo Ibañez](https://www.uai.cl/assets/themes/uai-central/img/logo.svg)\n",
        "\n",
        "---\n",
        "\n",
        "# UAI : Magister / Diploma AI 2020\n",
        "\n",
        "---\n",
        "\n",
        "## Mini-proyecto 2 - Programación Basada en Restricciones\n",
        "\n",
        "### Descripción Problema a resolver\n",
        "\n",
        "La evaluación consiste en realizar un modelo\n",
        "que resuelva el problema de asignar trabajadores\n",
        "a vuelos en una compañía aérea. Para lo que tenemos los siguientes datos:\n",
        "\n",
        "1. Hay 20 trabajadores\n",
        "+ Azafatos: Tom, David, Jeremy, Ron, Joe, Bill, Fred, Bob,\n",
        "Mario, Ed\n",
        "+ Azafatas: Carol, Janet, Tracy, Marilyn, Carolyn, Cathy,\n",
        "Inez, Jean, Heather, Juliet\n",
        "2. Hay 10 vuelos (la numeración es importante)\n",
        "3. Cada vuelo necesita el siguiente número de\n",
        "trabajadores, azafatos y azafatas.\n",
        "\n",
        "![](https://drive.google.com/uc?export=view&id=1cHJBX0X42Auo0EwdRfY_xUByM_V71m9K)\n",
        "\n",
        "4. Además, cada vuelo necesita al menos una persona\n",
        "que sepa francés, una persona que sepa español y\n",
        "una persona que sepa alemán.\n",
        "* Saben francés: Inez, Bill, Jean, Juliet\n",
        "* Saben español: Tom, Jeremy, Mario, Cathy, Juliet\n",
        "* Saben alemán: Bill, Fred, Joe, Mario, Marilyn, Inez, Heather\n",
        "\n",
        "5. Si un trabajador trabaja un vuelo, no puede\n",
        "trabajar ninguno de los siguientes dos vuelos\n",
        "(ejemplo, si Mario trabaja en el vuelo 1, no\n",
        "puede trabajar en el vuelo 2 ni en el vuelo 3).\n",
        "\n",
        "---\n",
        "\n",
        "### Descripción **Objetivo**\n",
        "\n",
        "* El objetivo es encontrar una asignación de\n",
        "trabajadores a vuelos.\n",
        "\n",
        "* Pregunta extra: ¿Se podría hacer con menos\n",
        "trabajadores?"
      ]
    },
    {
      "cell_type": "markdown",
      "metadata": {
        "id": "l7rT1WRxGmvu",
        "colab_type": "text"
      },
      "source": [
        "# Solución\n",
        "\n",
        "XXXXXX Descripción de como se piensa resolver el problema XXXXX"
      ]
    },
    {
      "cell_type": "markdown",
      "metadata": {
        "id": "BkwlZxwMBgBC",
        "colab_type": "text"
      },
      "source": [
        "## Importación de paquetes y creación de variables"
      ]
    },
    {
      "cell_type": "code",
      "metadata": {
        "id": "pBpVAEuHo0TI",
        "colab_type": "code",
        "colab": {
          "base_uri": "https://localhost:8080/",
          "height": 328
        },
        "outputId": "32842e48-4cd2-4949-d4cf-d64cf80cff9e"
      },
      "source": [
        "pip install ortools"
      ],
      "execution_count": 1,
      "outputs": [
        {
          "output_type": "stream",
          "text": [
            "Collecting ortools\n",
            "\u001b[?25l  Downloading https://files.pythonhosted.org/packages/1c/d5/c4382df6b6b978971f11287552f5c0acc54ea7bf8ce70a9c77d8a06531b2/ortools-7.6.7691-cp36-cp36m-manylinux1_x86_64.whl (28.9MB)\n",
            "\u001b[K     |████████████████████████████████| 28.9MB 143kB/s \n",
            "\u001b[?25hCollecting protobuf>=3.11.2\n",
            "\u001b[?25l  Downloading https://files.pythonhosted.org/packages/28/05/9867ef8eafd12265267bee138fa2c46ebf34a276ea4cbe184cba4c606e8b/protobuf-3.12.2-cp36-cp36m-manylinux1_x86_64.whl (1.3MB)\n",
            "\u001b[K     |████████████████████████████████| 1.3MB 44.1MB/s \n",
            "\u001b[?25hRequirement already satisfied: six>=1.10 in /usr/local/lib/python3.6/dist-packages (from ortools) (1.12.0)\n",
            "Requirement already satisfied: setuptools in /usr/local/lib/python3.6/dist-packages (from protobuf>=3.11.2->ortools) (47.1.1)\n",
            "Installing collected packages: protobuf, ortools\n",
            "  Found existing installation: protobuf 3.10.0\n",
            "    Uninstalling protobuf-3.10.0:\n",
            "      Successfully uninstalled protobuf-3.10.0\n",
            "Successfully installed ortools-7.6.7691 protobuf-3.12.2\n"
          ],
          "name": "stdout"
        },
        {
          "output_type": "display_data",
          "data": {
            "application/vnd.colab-display-data+json": {
              "pip_warning": {
                "packages": [
                  "google"
                ]
              }
            }
          },
          "metadata": {
            "tags": []
          }
        }
      ]
    },
    {
      "cell_type": "code",
      "metadata": {
        "id": "vf40DtS7rbsJ",
        "colab_type": "code",
        "colab": {}
      },
      "source": [
        "from ortools.constraint_solver import pywrapcp"
      ],
      "execution_count": 0,
      "outputs": []
    },
    {
      "cell_type": "code",
      "metadata": {
        "id": "g3VlOQNKS17K",
        "colab_type": "code",
        "colab": {}
      },
      "source": [
        "#help(pywrapcp)"
      ],
      "execution_count": 0,
      "outputs": []
    },
    {
      "cell_type": "code",
      "metadata": {
        "id": "dCNO7_EG8rUH",
        "colab_type": "code",
        "colab": {}
      },
      "source": [
        "solver = pywrapcp.Solver(\"Tripulacion\")"
      ],
      "execution_count": 0,
      "outputs": []
    },
    {
      "cell_type": "code",
      "metadata": {
        "id": "d0de1gxIkZ-_",
        "colab_type": "code",
        "colab": {}
      },
      "source": [
        " nombres = [\n",
        "      \"Tom\", \"David\", \"Jeremy\", \"Ron\", \"Joe\", \"Bill\", \"Fred\", \"Bob\", \"Mario\",\n",
        "      \"Ed\", \"Carol\", \"Janet\", \"Tracy\", \"Marilyn\", \"Carolyn\", \"Cathy\", \"Inez\",\n",
        "      \"Jean\", \"Heather\", \"Juliet\"\n",
        "  ]"
      ],
      "execution_count": 0,
      "outputs": []
    },
    {
      "cell_type": "code",
      "metadata": {
        "id": "6fBNIiJqkdxO",
        "colab_type": "code",
        "colab": {
          "base_uri": "https://localhost:8080/",
          "height": 34
        },
        "outputId": "9e6901ae-dbb0-4768-8015-ffd9af3b782a"
      },
      "source": [
        "print(nombres)"
      ],
      "execution_count": 5,
      "outputs": [
        {
          "output_type": "stream",
          "text": [
            "['Tom', 'David', 'Jeremy', 'Ron', 'Joe', 'Bill', 'Fred', 'Bob', 'Mario', 'Ed', 'Carol', 'Janet', 'Tracy', 'Marilyn', 'Carolyn', 'Cathy', 'Inez', 'Jean', 'Heather', 'Juliet']\n"
          ],
          "name": "stdout"
        }
      ]
    },
    {
      "cell_type": "code",
      "metadata": {
        "id": "JiH7aVNtkqQX",
        "colab_type": "code",
        "colab": {
          "base_uri": "https://localhost:8080/",
          "height": 34
        },
        "outputId": "761ba99d-cc7d-4757-9f11-de3face04132"
      },
      "source": [
        "personas = len(nombres)\n",
        "print(personas)"
      ],
      "execution_count": 6,
      "outputs": [
        {
          "output_type": "stream",
          "text": [
            "20\n"
          ],
          "name": "stdout"
        }
      ]
    },
    {
      "cell_type": "markdown",
      "metadata": {
        "id": "vPCBhMeOnLX1",
        "colab_type": "text"
      },
      "source": [
        "Se establece la matriz de atributos que corresponden a toda la tripulación, de modo de poder clasificar y clusterizar los ambitos que tenemos de trabajo de la tripulación."
      ]
    },
    {
      "cell_type": "code",
      "metadata": {
        "id": "aZWArK8mk3Xg",
        "colab_type": "code",
        "colab": {}
      },
      "source": [
        "atributos = [\n",
        "      #  Azafatos, Azafatas, Frances, Español, Aleman\n",
        "      [1, 0, 0, 1, 0],  # Tom     = 1\n",
        "      [1, 0, 0, 0, 0],  # David   = 2\n",
        "      [1, 0, 0, 1, 0],  # Jeremy  = 3\n",
        "      [1, 0, 0, 0, 0],  # Ron     = 4\n",
        "      [1, 0, 0, 0, 1],  # Joe     = 5\n",
        "      [1, 0, 1, 0, 1],  # Bill    = 6\n",
        "      [1, 0, 0, 0, 1],  # Fred    = 7\n",
        "      [1, 0, 0, 0, 0],  # Bob     = 8\n",
        "      [1, 0, 0, 1, 1],  # Mario   = 9\n",
        "      [1, 0, 0, 0, 0],  # Ed      = 10\n",
        "      [0, 1, 0, 0, 0],  # Carol   = 11\n",
        "      [0, 1, 0, 0, 0],  # Janet   = 12\n",
        "      [0, 1, 0, 0, 0],  # Tracy   = 13\n",
        "      [0, 1, 0, 1, 1],  # Marilyn = 14\n",
        "      [0, 1, 0, 0, 0],  # Carolyn = 15\n",
        "      [0, 1, 0, 1, 0],  # Cathy   = 16\n",
        "      [0, 1, 1, 0, 1],  # Inez    = 17\n",
        "      [0, 1, 1, 0, 0],  # Jean    = 18\n",
        "      [0, 1, 0, 0, 1],  # Heather = 19\n",
        "      [0, 1, 1, 1, 0]  # Juliet  = 20\n",
        "  ]"
      ],
      "execution_count": 0,
      "outputs": []
    },
    {
      "cell_type": "markdown",
      "metadata": {
        "id": "5koRU9lImgy0",
        "colab_type": "text"
      },
      "source": [
        "Se forma la siguiente tabla requerida por las condiciones del problema generado correspondiente a la tripulación requerida por fila (cada fila es un vuelo de la tabla del encabezado):\n",
        "\n",
        "  + Numero Trabajadores     : Numero total de trabajadores requeridos en vuelo\n",
        "  + Azafatos  : Azafatos requeridos\n",
        "  + Azafatas : Azafatas requeridas\n",
        "  + Frances    : Cuantos requeridos que sepan frances\n",
        "  + Español   : Cuantos que sepan español son requeridos\n",
        "  + Aleman    : Cuantos que sepan Aleman son requeridos"
      ]
    },
    {
      "cell_type": "code",
      "metadata": {
        "id": "8jBe83jzmTF1",
        "colab_type": "code",
        "colab": {}
      },
      "source": [
        "\n",
        "tripulacion_requerida = [\n",
        "                         [4, 1, 1, 1, 1, 1],  # Vuelo 1\n",
        "                         [5, 1, 1, 1, 1, 1],  # Vuelo 2\n",
        "                         [5, 1, 1, 1, 1, 1],  # Vuelo 3\n",
        "                         [6, 2, 2, 1, 1, 1],  # Vuelo 4\n",
        "                         [7, 3, 3, 1, 1, 1],  # Vuelo 5\n",
        "                         [4, 1, 1, 1, 1, 1],  # Vuelo 6\n",
        "                         [5, 1, 1, 1, 1, 1],  # Vuelo 7\n",
        "                         [6, 1, 1, 1, 1, 1],  # Vuelo 8\n",
        "                         [6, 2, 2, 1, 1, 1],  # Vuelo 9\n",
        "                         [7, 3, 3, 1, 1, 1]   # Vuelo 10\n",
        "                         ]\n",
        "\n",
        "mumero_vuelos = len(tripulacion_requerida)  # numero de vuelos"
      ],
      "execution_count": 0,
      "outputs": []
    },
    {
      "cell_type": "markdown",
      "metadata": {
        "id": "AovEEHW-Ahr-",
        "colab_type": "text"
      },
      "source": [
        "Se genera un diccionario de tripulación con llave una tupla que tiene el valor del vuelo en el primer elemento y de la cantidad de tripulacióón en el segundo y el elemnto valor corresponde a un solver que puede ser 0 o 1.\n",
        "\n",
        "Tambien se crea una variable numero de trabajadores que contieen un solver que corresponde a una variable entera que puede ir desde 1 a numero de personas, llamada num_trab"
      ]
    },
    {
      "cell_type": "code",
      "metadata": {
        "id": "Ml4GNBlmourx",
        "colab_type": "code",
        "colab": {}
      },
      "source": [
        "tripulacion = {}\n",
        "for i in range(mumero_vuelos):\n",
        "  for j in range(personas):\n",
        "    tripulacion[(i, j)] = solver.IntVar(0, 1, \"tripulacion[%i,%i]\" % (i, j)) \n",
        "\n",
        "tripulacion_f = [ tripulacion[(i, j)] for i in range(mumero_vuelos) for j in range(personas)]\n",
        "\n",
        "  # numero de personas trabajando\n",
        "num_trab = solver.IntVar(1, personas, \"num_trab\")"
      ],
      "execution_count": 0,
      "outputs": []
    },
    {
      "cell_type": "code",
      "metadata": {
        "id": "PwICuQKQ9_Pz",
        "colab_type": "code",
        "colab": {
          "base_uri": "https://localhost:8080/",
          "height": 34
        },
        "outputId": "42bc9b64-8c00-4c04-af14-86759f03688c"
      },
      "source": [
        "type(tripulacion)"
      ],
      "execution_count": 16,
      "outputs": [
        {
          "output_type": "execute_result",
          "data": {
            "text/plain": [
              "dict"
            ]
          },
          "metadata": {
            "tags": []
          },
          "execution_count": 16
        }
      ]
    },
    {
      "cell_type": "code",
      "metadata": {
        "id": "mEuoNYut_lay",
        "colab_type": "code",
        "colab": {
          "base_uri": "https://localhost:8080/",
          "height": 54
        },
        "outputId": "51d3492e-bfea-474b-96f6-13cb5f78f099"
      },
      "source": [
        "tripulacion.keys()"
      ],
      "execution_count": 18,
      "outputs": [
        {
          "output_type": "execute_result",
          "data": {
            "text/plain": [
              "dict_keys([(0, 0), (0, 1), (0, 2), (0, 3), (0, 4), (0, 5), (0, 6), (0, 7), (0, 8), (0, 9), (0, 10), (0, 11), (0, 12), (0, 13), (0, 14), (0, 15), (0, 16), (0, 17), (0, 18), (0, 19), (1, 0), (1, 1), (1, 2), (1, 3), (1, 4), (1, 5), (1, 6), (1, 7), (1, 8), (1, 9), (1, 10), (1, 11), (1, 12), (1, 13), (1, 14), (1, 15), (1, 16), (1, 17), (1, 18), (1, 19), (2, 0), (2, 1), (2, 2), (2, 3), (2, 4), (2, 5), (2, 6), (2, 7), (2, 8), (2, 9), (2, 10), (2, 11), (2, 12), (2, 13), (2, 14), (2, 15), (2, 16), (2, 17), (2, 18), (2, 19), (3, 0), (3, 1), (3, 2), (3, 3), (3, 4), (3, 5), (3, 6), (3, 7), (3, 8), (3, 9), (3, 10), (3, 11), (3, 12), (3, 13), (3, 14), (3, 15), (3, 16), (3, 17), (3, 18), (3, 19), (4, 0), (4, 1), (4, 2), (4, 3), (4, 4), (4, 5), (4, 6), (4, 7), (4, 8), (4, 9), (4, 10), (4, 11), (4, 12), (4, 13), (4, 14), (4, 15), (4, 16), (4, 17), (4, 18), (4, 19), (5, 0), (5, 1), (5, 2), (5, 3), (5, 4), (5, 5), (5, 6), (5, 7), (5, 8), (5, 9), (5, 10), (5, 11), (5, 12), (5, 13), (5, 14), (5, 15), (5, 16), (5, 17), (5, 18), (5, 19), (6, 0), (6, 1), (6, 2), (6, 3), (6, 4), (6, 5), (6, 6), (6, 7), (6, 8), (6, 9), (6, 10), (6, 11), (6, 12), (6, 13), (6, 14), (6, 15), (6, 16), (6, 17), (6, 18), (6, 19), (7, 0), (7, 1), (7, 2), (7, 3), (7, 4), (7, 5), (7, 6), (7, 7), (7, 8), (7, 9), (7, 10), (7, 11), (7, 12), (7, 13), (7, 14), (7, 15), (7, 16), (7, 17), (7, 18), (7, 19), (8, 0), (8, 1), (8, 2), (8, 3), (8, 4), (8, 5), (8, 6), (8, 7), (8, 8), (8, 9), (8, 10), (8, 11), (8, 12), (8, 13), (8, 14), (8, 15), (8, 16), (8, 17), (8, 18), (8, 19), (9, 0), (9, 1), (9, 2), (9, 3), (9, 4), (9, 5), (9, 6), (9, 7), (9, 8), (9, 9), (9, 10), (9, 11), (9, 12), (9, 13), (9, 14), (9, 15), (9, 16), (9, 17), (9, 18), (9, 19)])"
            ]
          },
          "metadata": {
            "tags": []
          },
          "execution_count": 18
        }
      ]
    },
    {
      "cell_type": "code",
      "metadata": {
        "id": "eWuEGX9MA4fI",
        "colab_type": "code",
        "colab": {
          "base_uri": "https://localhost:8080/",
          "height": 34
        },
        "outputId": "b7052dfe-f3c1-4d28-e0b1-80ad7d00be3c"
      },
      "source": [
        "num_trab"
      ],
      "execution_count": 20,
      "outputs": [
        {
          "output_type": "execute_result",
          "data": {
            "text/plain": [
              "num_trab(1..20)"
            ]
          },
          "metadata": {
            "tags": []
          },
          "execution_count": 20
        }
      ]
    },
    {
      "cell_type": "markdown",
      "metadata": {
        "id": "z5uG8xIjlhRX",
        "colab_type": "text"
      },
      "source": [
        "## Creación de restricciones"
      ]
    },
    {
      "cell_type": "markdown",
      "metadata": {
        "id": "bAK95VPpHtom",
        "colab_type": "text"
      },
      "source": [
        "# Conclusiones"
      ]
    },
    {
      "cell_type": "markdown",
      "metadata": {
        "id": "zm0Gg9E9_Sal",
        "colab_type": "text"
      },
      "source": [
        ""
      ]
    },
    {
      "cell_type": "markdown",
      "metadata": {
        "id": "oGyXnrC-HxY6",
        "colab_type": "text"
      },
      "source": [
        "# Integrantes"
      ]
    }
  ]
}